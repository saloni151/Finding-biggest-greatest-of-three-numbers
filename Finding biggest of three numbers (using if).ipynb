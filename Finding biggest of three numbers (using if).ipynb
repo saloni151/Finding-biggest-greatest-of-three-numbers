{
 "cells": [
  {
   "cell_type": "code",
   "execution_count": 1,
   "id": "3eea74b8",
   "metadata": {},
   "outputs": [
    {
     "name": "stdout",
     "output_type": "stream",
     "text": [
      "enter the first value:5\n"
     ]
    }
   ],
   "source": [
    "#type1 to find the biggest of three number\n",
    "\n",
    "a=float(input(\"enter the first value:\"))\n"
   ]
  },
  {
   "cell_type": "code",
   "execution_count": 2,
   "id": "82c48d4b",
   "metadata": {},
   "outputs": [
    {
     "name": "stdout",
     "output_type": "stream",
     "text": [
      "enter the second value:6\n"
     ]
    }
   ],
   "source": [
    "b=float(input(\"enter the second value:\"))"
   ]
  },
  {
   "cell_type": "code",
   "execution_count": 3,
   "id": "3fe12ede",
   "metadata": {},
   "outputs": [
    {
     "name": "stdout",
     "output_type": "stream",
     "text": [
      "enter the third value:7\n"
     ]
    }
   ],
   "source": [
    "c=float(input(\"enter the third value:\"))"
   ]
  },
  {
   "cell_type": "code",
   "execution_count": 4,
   "id": "f9a42d7c",
   "metadata": {},
   "outputs": [],
   "source": [
    "if(a>b) and (a>c):\n",
    "    print(\"the greatest number is a{}\".format(a))"
   ]
  },
  {
   "cell_type": "code",
   "execution_count": 5,
   "id": "f590f834",
   "metadata": {},
   "outputs": [],
   "source": [
    "if(b>a)and (b>c):\n",
    "    print(\"the greatest number is b{}\".format(b))"
   ]
  },
  {
   "cell_type": "code",
   "execution_count": 6,
   "id": "4d1ef705",
   "metadata": {},
   "outputs": [
    {
     "name": "stdout",
     "output_type": "stream",
     "text": [
      "the greatest number is c7.0\n"
     ]
    }
   ],
   "source": [
    "if(c>a)and (c>b):\n",
    "    print(\"the greatest number is c{}\".format(c))"
   ]
  },
  {
   "cell_type": "code",
   "execution_count": 7,
   "id": "78dde461",
   "metadata": {},
   "outputs": [],
   "source": [
    "#Type2: To find the biggest of three number"
   ]
  },
  {
   "cell_type": "code",
   "execution_count": 12,
   "id": "70b46838",
   "metadata": {},
   "outputs": [
    {
     "name": "stdout",
     "output_type": "stream",
     "text": [
      "Enter Value of a:6\n"
     ]
    }
   ],
   "source": [
    "a=int(input(\"Enter Value of a:\"))\n"
   ]
  },
  {
   "cell_type": "code",
   "execution_count": 13,
   "id": "ff079d80",
   "metadata": {},
   "outputs": [
    {
     "name": "stdout",
     "output_type": "stream",
     "text": [
      "Enter Value of b:6\n"
     ]
    }
   ],
   "source": [
    "b=int(input(\"Enter Value of b:\"))\n"
   ]
  },
  {
   "cell_type": "code",
   "execution_count": 14,
   "id": "fd52051e",
   "metadata": {},
   "outputs": [
    {
     "name": "stdout",
     "output_type": "stream",
     "text": [
      "Enter Value of c:5\n"
     ]
    }
   ],
   "source": [
    "c=int(input(\"Enter Value of c:\"))\n"
   ]
  },
  {
   "cell_type": "code",
   "execution_count": 15,
   "id": "a64fb831",
   "metadata": {},
   "outputs": [
    {
     "name": "stdout",
     "output_type": "stream",
     "text": [
      "big(6,6,5)=6\n"
     ]
    }
   ],
   "source": [
    "#logic\n",
    "big=a\n",
    "if(b>big):\n",
    "\tbig=b\n",
    "if(c>big):\n",
    "\tbig=c\n",
    "print(\"big({},{},{})={}\".format(a,b,c,big))"
   ]
  },
  {
   "cell_type": "code",
   "execution_count": null,
   "id": "c0dc3081",
   "metadata": {},
   "outputs": [],
   "source": []
  },
  {
   "cell_type": "code",
   "execution_count": null,
   "id": "49e475e4",
   "metadata": {},
   "outputs": [],
   "source": []
  },
  {
   "cell_type": "code",
   "execution_count": null,
   "id": "13e3a2dc",
   "metadata": {},
   "outputs": [],
   "source": []
  },
  {
   "cell_type": "code",
   "execution_count": null,
   "id": "7245bfa8",
   "metadata": {},
   "outputs": [],
   "source": []
  },
  {
   "cell_type": "code",
   "execution_count": null,
   "id": "d132c586",
   "metadata": {},
   "outputs": [],
   "source": []
  },
  {
   "cell_type": "code",
   "execution_count": null,
   "id": "e2e648af",
   "metadata": {},
   "outputs": [],
   "source": []
  },
  {
   "cell_type": "code",
   "execution_count": null,
   "id": "f486734e",
   "metadata": {},
   "outputs": [],
   "source": []
  },
  {
   "cell_type": "code",
   "execution_count": null,
   "id": "ad5cec6f",
   "metadata": {},
   "outputs": [],
   "source": []
  },
  {
   "cell_type": "code",
   "execution_count": null,
   "id": "aba9a47d",
   "metadata": {},
   "outputs": [],
   "source": []
  },
  {
   "cell_type": "code",
   "execution_count": null,
   "id": "6ceb3aac",
   "metadata": {},
   "outputs": [],
   "source": []
  },
  {
   "cell_type": "code",
   "execution_count": null,
   "id": "d9eb182b",
   "metadata": {},
   "outputs": [],
   "source": []
  }
 ],
 "metadata": {
  "kernelspec": {
   "display_name": "Python 3 (ipykernel)",
   "language": "python",
   "name": "python3"
  },
  "language_info": {
   "codemirror_mode": {
    "name": "ipython",
    "version": 3
   },
   "file_extension": ".py",
   "mimetype": "text/x-python",
   "name": "python",
   "nbconvert_exporter": "python",
   "pygments_lexer": "ipython3",
   "version": "3.10.9"
  }
 },
 "nbformat": 4,
 "nbformat_minor": 5
}
